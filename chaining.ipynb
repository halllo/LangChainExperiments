{
 "cells": [
  {
   "cell_type": "markdown",
   "metadata": {},
   "source": [
    "# Chaining Experiments\n",
    "\n",
    "Setting up langchain imports."
   ]
  },
  {
   "cell_type": "code",
   "execution_count": 17,
   "metadata": {
    "dotnet_interactive": {
     "language": "mermaid"
    },
    "polyglot_notebook": {
     "kernelName": "mermaid"
    }
   },
   "outputs": [],
   "source": [
    "from langchain_openai import OpenAI;\n",
    "from langchain.prompts import PromptTemplate;\n",
    "from langchain_core.output_parsers import StrOutputParser;\n",
    "from langchain_core.runnables import RunnablePassthrough, RunnableParallel, RunnablePick;\n",
    "import json;\n",
    "from dotenv import load_dotenv;\n",
    "load_dotenv();"
   ]
  },
  {
   "cell_type": "markdown",
   "metadata": {},
   "source": [
    "Using OpenAI"
   ]
  },
  {
   "cell_type": "code",
   "execution_count": 18,
   "metadata": {},
   "outputs": [],
   "source": [
    "llm = OpenAI();"
   ]
  },
  {
   "cell_type": "markdown",
   "metadata": {},
   "source": [
    "Code Chain\n",
    "```mermaid\n",
    "graph TD;\n",
    "    language & task-->code_chain;\n",
    "    code_chain-->code;\n",
    "```"
   ]
  },
  {
   "cell_type": "code",
   "execution_count": 19,
   "metadata": {},
   "outputs": [
    {
     "name": "stdout",
     "output_type": "stream",
     "text": [
      "{'title': 'PromptInput', 'type': 'object', 'properties': {'language': {'title': 'Language', 'type': 'string'}, 'task': {'title': 'Task', 'type': 'string'}}}\n",
      "{'title': 'RunnableParallel<code>Output', 'type': 'object', 'properties': {'code': {'title': 'Code', 'type': 'string'}}}\n"
     ]
    }
   ],
   "source": [
    "code_prompt = PromptTemplate.from_template(\"Write a very short {language} function that will {task}\");\n",
    "code_chain = code_prompt | llm | {\"code\": StrOutputParser()};\n",
    "\n",
    "print(code_chain.input_schema.schema());\n",
    "print(code_chain.output_schema.schema());"
   ]
  },
  {
   "cell_type": "markdown",
   "metadata": {},
   "source": [
    "Test Chain\n",
    "\n",
    "```mermaid\n",
    "graph TD;\n",
    "    language & code-->test_chain;\n",
    "    test_chain-->test\n",
    "```"
   ]
  },
  {
   "cell_type": "code",
   "execution_count": 20,
   "metadata": {},
   "outputs": [
    {
     "name": "stdout",
     "output_type": "stream",
     "text": [
      "{'title': 'PromptInput', 'type': 'object', 'properties': {'code': {'title': 'Code', 'type': 'string'}, 'language': {'title': 'Language', 'type': 'string'}}}\n",
      "{'title': 'RunnableParallel<test>Output', 'type': 'object', 'properties': {'test': {'title': 'Test', 'type': 'string'}}}\n"
     ]
    }
   ],
   "source": [
    "test_prompt = PromptTemplate.from_template(\"Write test code for the following {language} code:\\n{code}\");\n",
    "test_chain = test_prompt | llm | {\"test\": StrOutputParser()};\n",
    "\n",
    "print(test_chain.input_schema.schema());\n",
    "print(test_chain.output_schema.schema());"
   ]
  },
  {
   "cell_type": "markdown",
   "metadata": {},
   "source": [
    "Chaining Code and Test together\n",
    "\n",
    "```mermaid\n",
    "graph TD;\n",
    "    language & task-->code_chain;\n",
    "    code_chain-->code;\n",
    "    language & code-->test_chain;\n",
    "    test_chain-->test\n",
    "```\n",
    "\n",
    "To maintain the inputs in the pipeline for subsequent steps we can use `RunnableParallel`, to fully control the flow of variables through the pipeline.\n",
    "\n",
    "I did not know that an asked this question on stackoverflow: [How to pass input parameters through RunnableSequences in LangChain v0.2?](https://stackoverflow.com/questions/78503869/how-to-pass-input-parameters-through-runnablesequences-in-langchain-v0-2)\n",
    "The first responder gave a non-working answer, but put me on the right path by mentioning `LCEL` (LangChain Expression Language). So I found this question [How to include the inputs of the first chain to the second chain in LangChain's SequentialChain?](https://stackoverflow.com/a/77525478/6466378)."
   ]
  },
  {
   "cell_type": "code",
   "execution_count": 21,
   "metadata": {},
   "outputs": [
    {
     "name": "stdout",
     "output_type": "stream",
     "text": [
      "{'title': 'RunnableParallel<language,code>Input', 'type': 'object', 'properties': {'language': {'title': 'Language', 'type': 'string'}, 'task': {'title': 'Task', 'type': 'string'}}}\n",
      "{'title': 'RunnableParallel<language,code,test>Output', 'type': 'object', 'properties': {'language': {'title': 'Language', 'type': 'object'}, 'code': {'title': 'Code', 'type': 'object'}, 'test': {'title': 'Test', 'type': 'object'}}}\n"
     ]
    }
   ],
   "source": [
    "chain = RunnableParallel({\n",
    "    \"language\": RunnablePick(\"language\"),\n",
    "    \"code\": code_chain | RunnablePick(\"code\"),\n",
    "}) | RunnableParallel({\n",
    "    \"language\": RunnablePick(\"language\"),\n",
    "    \"code\": RunnablePick(\"code\"),\n",
    "    \"test\": test_chain | RunnablePick(\"test\"),\n",
    "});\n",
    "\n",
    "print(chain.input_schema.schema())\n",
    "print(chain.output_schema.schema())"
   ]
  },
  {
   "cell_type": "code",
   "execution_count": 22,
   "metadata": {},
   "outputs": [
    {
     "name": "stdout",
     "output_type": "stream",
     "text": [
      "{\n",
      "    \"language\": \"python\",\n",
      "    \"code\": \"\\n\\ndef reverse_string(string):\\n    return string[::-1]\",\n",
      "    \"test\": \"\\n\\n# Importing the necessary libraries\\nimport unittest\\n\\n# Creating a class for testing the reverse_string function\\nclass TestReverseString(unittest.TestCase):\\n    \\n    # Creating a test case for a string with even length\\n    def test_even_length_string(self):\\n        self.assertEqual(reverse_string(\\\"Hello\\\"), \\\"olleH\\\")\\n    \\n    # Creating a test case for a string with odd length\\n    def test_odd_length_string(self):\\n        self.assertEqual(reverse_string(\\\"Python\\\"), \\\"nohtyP\\\")\\n    \\n    # Creating a test case for an empty string\\n    def test_empty_string(self):\\n        self.assertEqual(reverse_string(\\\"\\\"), \\\"\\\")\\n    \\n    # Creating a test case for a string with only one character\\n    def test_single_character_string(self):\\n        self.assertEqual(reverse_string(\\\"a\\\"), \\\"a\\\")\\n        \\n    # Creating a test case for a string with special characters\\n    def test_special_character_string(self):\\n        self.assertEqual(reverse_string(\\\"!@#$%\\\"), \\\"%$#@!\\\")\\n        \\n    # Creating a test case for a string with spaces\\n    def test_string_with_spaces(self):\\n        self.assertEqual(reverse_string(\\\"Hello World\\\"), \\\"dlroW olleH\\\")\\n        \\n    \\n# Allowing the test code to be run directly\\nif __name__ == '__main__':\\n    unittest.main\"\n",
      "}\n"
     ]
    }
   ],
   "source": [
    "result = chain.invoke({\n",
    "    \"language\": \"python\",\n",
    "    \"task\": \"reverse a string\",\n",
    "});\n",
    "\n",
    "print(json.dumps(result, indent=4));"
   ]
  }
 ],
 "metadata": {
  "kernelspec": {
   "display_name": ".venv",
   "language": "python",
   "name": "python3"
  },
  "language_info": {
   "codemirror_mode": {
    "name": "ipython",
    "version": 3
   },
   "file_extension": ".py",
   "mimetype": "text/x-python",
   "name": "python",
   "nbconvert_exporter": "python",
   "pygments_lexer": "ipython3",
   "version": "3.12.0"
  },
  "polyglot_notebook": {
   "kernelInfo": {
    "defaultKernelName": "mermaid",
    "items": [
     {
      "aliases": [],
      "languageName": "mermaid",
      "name": "mermaid"
     }
    ]
   }
  }
 },
 "nbformat": 4,
 "nbformat_minor": 2
}
